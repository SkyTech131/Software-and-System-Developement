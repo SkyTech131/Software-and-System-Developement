{
 "cells": [
  {
   "cell_type": "markdown",
   "id": "acfc3804",
   "metadata": {},
   "source": [
    "# OOP Patterns"
   ]
  },
  {
   "cell_type": "markdown",
   "id": "0b1447ff",
   "metadata": {},
   "source": [
    "## 1. State Pattern (Паттерн Состояние)\n",
    "\n",
    "The behavior of the `Context` changes dynamically depending on its current `State`.  \n",
    "Each `State` class implements a `handle` method that processes requests differently.  \n",
    "When a request occurs, the current state handles it and can switch the `Context` to a new state.  \n",
    "This way, the `Context` appears to change its behavior at runtime without modifying its own code."
   ]
  },
  {
   "cell_type": "code",
   "execution_count": 8,
   "id": "119df646",
   "metadata": {},
   "outputs": [
    {
     "name": "stdout",
     "output_type": "stream",
     "text": [
      "State A handling request. Switching to B.\n",
      "State B handling request. Switching to A.\n"
     ]
    }
   ],
   "source": [
    "class State:\n",
    "    def handle(self):\n",
    "        pass\n",
    "\n",
    "class ConcreteStateA(State):\n",
    "    def handle(self):\n",
    "        print(\"State A handling request. Switching to B.\")\n",
    "        return ConcreteStateB()\n",
    "\n",
    "class ConcreteStateB(State):\n",
    "    def handle(self):\n",
    "        print(\"State B handling request. Switching to A.\")\n",
    "        return ConcreteStateA()\n",
    "\n",
    "class Context:\n",
    "    def __init__(self, state):\n",
    "        self.state = state\n",
    "\n",
    "    def request(self):\n",
    "        self.state = self.state.handle()\n",
    "\n",
    "context = Context(ConcreteStateA())\n",
    "context.request()\n",
    "context.request()\n"
   ]
  },
  {
   "cell_type": "markdown",
   "id": "a125dc81",
   "metadata": {},
   "source": [
    "## 2. Composite Pattern (Паттерн Компоновщик)\n",
    "\n",
    "This pattern lets clients treat individual objects (`Leaf`) and compositions (`Composite`) uniformly.  \n",
    "Both share the same interface, so clients interact with them without needing to know if they’re dealing with a single object or a tree structure.  \n",
    "A `Composite` contains child components and delegates operations to them recursively, enabling hierarchical structures.\n"
   ]
  },
  {
   "cell_type": "code",
   "execution_count": 9,
   "id": "75356bfa",
   "metadata": {},
   "outputs": [
    {
     "name": "stdout",
     "output_type": "stream",
     "text": [
      "Composite root operation\n",
      "Leaf leaf1 operation\n",
      "Composite branch operation\n",
      "Leaf leaf2 operation\n"
     ]
    }
   ],
   "source": [
    "class Component:\n",
    "    def operation(self):\n",
    "        pass\n",
    "\n",
    "class Leaf(Component):\n",
    "    def __init__(self, name):\n",
    "        self.name = name\n",
    "\n",
    "    def operation(self):\n",
    "        print(f\"Leaf {self.name} operation\")\n",
    "\n",
    "class Composite(Component):\n",
    "    def __init__(self, name):\n",
    "        self.name = name\n",
    "        self.children = []\n",
    "\n",
    "    def add(self, component):\n",
    "        self.children.append(component)\n",
    "\n",
    "    def operation(self):\n",
    "        print(f\"Composite {self.name} operation\")\n",
    "        for child in self.children:\n",
    "            child.operation()\n",
    "\n",
    "root = Composite(\"root\")\n",
    "root.add(Leaf(\"leaf1\"))\n",
    "sub = Composite(\"branch\")\n",
    "sub.add(Leaf(\"leaf2\"))\n",
    "root.add(sub)\n",
    "root.operation()\n"
   ]
  },
  {
   "cell_type": "markdown",
   "id": "2760ff22",
   "metadata": {},
   "source": [
    "## 3. Iterator Pattern (Паттерн Итератор)\n",
    "\n",
    "The `Iterator` provides a standard way to traverse elements of a collection one by one without exposing its internal structure.  \n",
    "An iterator object keeps track of the current position and returns the next item on each call.  \n",
    "The collection returns an iterator instance, allowing clients to iterate using simple loops without managing traversal details.\n"
   ]
  },
  {
   "cell_type": "code",
   "execution_count": 10,
   "id": "a2445840",
   "metadata": {},
   "outputs": [
    {
     "name": "stdout",
     "output_type": "stream",
     "text": [
      "one\n",
      "two\n",
      "three\n"
     ]
    }
   ],
   "source": [
    "class MyIterator:\n",
    "    def __init__(self, collection):\n",
    "        self._collection = collection\n",
    "        self._index = 0\n",
    "\n",
    "    def __iter__(self):\n",
    "        return self\n",
    "\n",
    "    def __next__(self):\n",
    "        if self._index < len(self._collection):\n",
    "            item = self._collection[self._index]\n",
    "            self._index += 1\n",
    "            return item\n",
    "        raise StopIteration\n",
    "\n",
    "class MyCollection:\n",
    "    def __init__(self):\n",
    "        self.items = []\n",
    "\n",
    "    def add(self, item):\n",
    "        self.items.append(item)\n",
    "\n",
    "    def __iter__(self):\n",
    "        return MyIterator(self.items)\n",
    "\n",
    "col = MyCollection()\n",
    "col.add(\"one\")\n",
    "col.add(\"two\")\n",
    "col.add(\"three\")\n",
    "\n",
    "for item in col:\n",
    "    print(item)\n"
   ]
  },
  {
   "cell_type": "markdown",
   "id": "6086078d",
   "metadata": {},
   "source": [
    "## 4. Facade Pattern (Паттерн Фасад)\n",
    "\n",
    "The `Facade` offers a simplified interface to a complex subsystem by hiding its internal components.  \n",
    "Clients interact with the facade instead of multiple subsystem classes, which reduces coupling.  \n",
    "The facade delegates client requests to the appropriate subsystems, making the overall system easier to use."
   ]
  },
  {
   "cell_type": "code",
   "execution_count": 11,
   "id": "ff2da9fe",
   "metadata": {},
   "outputs": [
    {
     "name": "stdout",
     "output_type": "stream",
     "text": [
      "Facade delegates to subsystems:\n",
      "Subsystem A operation\n",
      "Subsystem B operation\n"
     ]
    }
   ],
   "source": [
    "class SubsystemA:\n",
    "    def operation_a(self):\n",
    "        print(\"Subsystem A operation\")\n",
    "\n",
    "class SubsystemB:\n",
    "    def operation_b(self):\n",
    "        print(\"Subsystem B operation\")\n",
    "\n",
    "class Facade:\n",
    "    def __init__(self):\n",
    "        self.a = SubsystemA()\n",
    "        self.b = SubsystemB()\n",
    "\n",
    "    def operation(self):\n",
    "        print(\"Facade delegates to subsystems:\")\n",
    "        self.a.operation_a()\n",
    "        self.b.operation_b()\n",
    "\n",
    "facade = Facade()\n",
    "facade.operation()\n"
   ]
  },
  {
   "cell_type": "markdown",
   "id": "486dfeae",
   "metadata": {},
   "source": [
    "## 5. Strategy Pattern (Паттерн Стратегия)\n",
    "\n",
    "The `Strategy` pattern defines a family of interchangeable algorithms, each encapsulated in its own class.  \n",
    "The `Context` holds a reference to a strategy and delegates the execution of an algorithm to it.  \n",
    "By switching strategies at runtime, the `Context` can change its behavior flexibly without modifying its own code."
   ]
  },
  {
   "cell_type": "code",
   "execution_count": 12,
   "id": "f2b4fb57",
   "metadata": {},
   "outputs": [
    {
     "name": "stdout",
     "output_type": "stream",
     "text": [
      "10\n",
      "18\n"
     ]
    }
   ],
   "source": [
    "class Strategy:\n",
    "    def execute(self, data):\n",
    "        pass\n",
    "\n",
    "class StrategyAdd(Strategy):\n",
    "    def execute(self, data):\n",
    "        return sum(data)\n",
    "\n",
    "class StrategyMultiply(Strategy):\n",
    "    def execute(self, data):\n",
    "        result = 1\n",
    "        for d in data:\n",
    "            result *= d\n",
    "        return result\n",
    "\n",
    "class Context:\n",
    "    def __init__(self, strategy):\n",
    "        self.strategy = strategy\n",
    "\n",
    "    def set_strategy(self, strategy):\n",
    "        self.strategy = strategy\n",
    "\n",
    "    def execute_strategy(self, data):\n",
    "        return self.strategy.execute(data)\n",
    "\n",
    "ctx = Context(StrategyAdd())\n",
    "print(ctx.execute_strategy([1, 3, 6]))  # Output: 10\n",
    "\n",
    "ctx.set_strategy(StrategyMultiply())\n",
    "print(ctx.execute_strategy([1, 3, 6]))  # Output: 18\n"
   ]
  }
 ],
 "metadata": {
  "kernelspec": {
   "display_name": "Labs",
   "language": "python",
   "name": "python3"
  },
  "language_info": {
   "codemirror_mode": {
    "name": "ipython",
    "version": 3
   },
   "file_extension": ".py",
   "mimetype": "text/x-python",
   "name": "python",
   "nbconvert_exporter": "python",
   "pygments_lexer": "ipython3",
   "version": "3.12.3"
  }
 },
 "nbformat": 4,
 "nbformat_minor": 5
}
